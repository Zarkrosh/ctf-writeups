{
 "cells": [
  {
   "cell_type": "code",
   "execution_count": 1,
   "metadata": {},
   "outputs": [],
   "source": [
    "#https://tools.ietf.org/html/rfc5652#page-36\n",
    "c1 = b'\\xb5\\x8e\\x82\\xbe\\xa0\\xe7\\xa5f$\\xa9\\x8d\\x12\\xab\\xe2\\xb6\\xdc6\\xc6w\\xa8-)\\xae;\\xa4\\x1a>\\xa6\\rq\\xe3\\x01.\\xbb;w\\xc94\\xe7\\xdd\\xef\\x1bw>\\xad\\x7fk\\xb3\\x15\\x1d\\xf7\\x88\\xcaEm\\x89k\\xcc\\xa3\\x8be\\x0f\\x94\\xa5\\xac\\x17S\\xa3l8\\x8a\\x10\\xdf^\\x8e8\\'\\xd6\\x95\\xb9\\xf8J\\xe5\\x12\\xa5\\xce\\xe4<x\\xaf\\x165?N\\r\\x90\\xb9\\xe2\\xfcJ\\xbd \\rY\\x0fl\\xe51\\xd1\\xd7\\xcf\\xb2\\xf7t\\xca\\xeb\\xe4B\\xca.(\\xa4,T\\xc3\\xe98;l\\xdb\\xc5\\xc1z\\xf2SJ\\xec9!3\\x1a\\xecn\\xe9)\\xe6;\\xb0\\x8c\\xb1\\x05`9\\xa8\\xf5\\xf6\\xe3\\nu\\x1b\\x0e\\xc3\\xdcfg\\xa9SP\\x8b\\xaf\\xad\\xab\\xea\\x06\\xc4\\x1d\\xd5\\x0bPV\\xfa\\xafI\\xaa\\\\\\xdd\\xb8:~:\\xda\\tlh\\xd2\\n\\xd7o\\x1c)\\x99\\x87Eisq\\xe3\\xf7\\x15\\xcd3\\xbf\\xee\\x04\\xef\\xae\\xd96\\x14\\x8f\\x9cp\\xb6\\x00\\xd2\\xf8\\r\\xf4Y\\xebg\\x85\\x85\\t\\xa6\\xccB\\xef\"F\\x9d0\\xc9\\xc6)\\xef\\xa8\\'\\xcc<\\xdf\\x0b\\xea\\xea\\xcfj' \n",
    "c2 = b'\\x1a\\x10YpA\\xde\\nf\\x1f\\x19\\xbe3^8\\xa9\\xe7\\xfaD3\\xfa_\\xd1\\xec\\xa3/\\x05\\xcf\\x87\\xd7\\xcc\\xac\\x0e\\xb0q\\xfe\\xf3\\x80xh\\x0e7\\xafp\\x08&\\x1exRR!\\x04v\\xf4\\rGx{\\xfdnH~]\\x9f\\x12\\xbcz\\xc0\\x99\\xf8\\xe7\\xf1\\xbf\\xf5\\x9c\\xbd\\xba\\xa8\\x9b\\xe9\\xdff\\x98\\x9b:\\x84\\x03\\x1b\\n\\xa3\\xca\\x0f\\xebQ\\xd2\\t\\xdc7\\xe9\\xec\\x14\\xb5GY\\xd0uHp\\xdb\\xf0l\\xac\\xe72\\x18\\xf3\\xef\\xd5=X7\\t\\x1e\\xc4=_\\x08.\\xcaw\\r&\\xba\\x1c\\xea\\x02\\xe8E9\\xfe\\xc0\\xf4L\\xe6\\x8d\"\\xbd\\xda_\\xde\\x82u\\xe5\\x82\\xed\\\\\\xc0E\\xe5>\\xdd\\xf6@\\xc5,\\xc5q\\\\\\xd6\\x03\\xef2\\xb5\\xe4D\\x008\\xed\\x9f\\xff\\x9afo\\xc4\\xfb|L\\xf4Ip\\xa1\\xd7\\x1d\\x8au[\\xd1kC\\xaamxK5\\x1e\\xdd\\x0b\\xa1\\xab\\xacD\\tA\\xf7\\xd6\\xad<\\xad\\xf2\\xde\\xd0/\\xc3\\xb6*\\x01zi\\xf1\\x15r\\x08\\x18\\xaeK\\xb8\\xfc\\x95\\x8f\\x06U\\xe1%\\xc7f\\x94\\xd9\\xd8\\xb1\\x87\\x8a\\x97\\xa6\\xc4\\xc3\\xc1X'\n",
    "c3 = b\"_\\x8bLbm=\\x88\\x12\\xdfBwP\\x16\\xfb]\\x8f\\xa2\\xf8T\\x9a\\x03q\\xcfy\\xec?W6:#&E\\xf2^\\xb9\\xea0\\x0e\\x93\\x06?!\\x83^\\x12e\\xf4\\x998\\xc0\\xbd#\\x88\\xc8\\xefI\\xa4\\xf5k%S_8\\x16_\\xc1\\x9d@\\xb7\\xe5\\x92\\xb1\\xe3\\x11b\\x92s\\xaf\\x1a\\x0e\\x93\\x1a\\xa1P\\x01x\\x13\\xd8\\xd1/\\xf3\\x8d\\xd5c\\xeb\\xf7\\x84\\x82\\x83|t\\xe3\\xdc\\xe4gg\\xc1e\\xe1Ig\\xd9\\xe3\\xa9^\\x00(iv\\xdc\\xdc\\x95\\x89n\\x87\\x8b\\xf0\\x8b\\xb8\\xa8\\xa7gB\\xee\\xe01\\x84\\xcb[q\\xa5\\xcf\\x97\\x04>{\\xfb`\\x1a\\xfd0\\t'\\x02|\\x92ddJj\\xeb)]\\xb8\\x92\\xf5\\xd2\\xe4\\xdb8s\\xc3\\xa0\\x88\\xc3\\xe7Z\\xd1\\x95\\xaaE\\x8c\\xe9&IKA\\x1f<6be'\\x06\\x98\\xbb\\x8c\\x907]\\x81\\x14\\xb8\\x0b6\\xf9\\x7f5'+\\xb5s\\x82~\\x83\\xb6\\x14\\x8aI\\xa9 \\xaaw!0\\xe0\\xba\\xee)\\x04N\\x0b\\xd7\\xd8\\x91\\xa3\\x11\\x1aj\\xcb\\x94F\\xf8\\x82e\\x912\\xf6U\\xaf\\x1d\\xef\\tIn\\xa9\"\n",
    "C = [c1,c2,c3]\n",
    "N = [22973506431502935830989344531834054371803748521898714053931965302816730126179280217266950692062561437959876717529370167551923776475867445042361417990692156883999609092264539796500049440599966604705332864557100322381556515414617322647738149362917013980848747344382121595899567441593243450876506103160013068898569368789274420275475286762228975506965032052558576243869260215132961109228004921575905227378076653725595376444844064611178931802911265460186010508864696872705794610986619322133175111870066538092352185968137769618424817583850062576549983805080380262207580147117992902586243505252777476221543535469831957764663, 26255731575142106162553793524880913833726992837258162919267934046559113893310778720385997370503679717470856448889449417355387507571223969808871544395341975322741403237580335560387284840781586988968877414313376716207937302171971455935762902937056372471867875586366585442073555092724859523953140020000615491704059906845468199301552324551994616897519248944770439655474903646959221113885788646814391555916131275963957681361393877103653131807273279999794149955103789172574110410339089457111532896402219407663013768257111108353052360979601935453110918131470735956820931973249223261472194239763348155209835622153061168867103, 22025843932979724726759496660407584518657288552508437858383102806630214905061793320956159520921161299678188021018424854957637834158492878060076834045090487819279167057396620148516275012571828790559635672205770613458677185570342332932026127171714572276633519462744152220618173604978474982014372774076682204531270956300273675210881522394940827563536025896801492037901078195189218238089648505712909831520475400610624456756608037619467534059587182742188830807333471935821853723756393276711238758548808097203818795290476871157426011859594946499021541229444224816171643878735859504063618648578672998647896475180714537713941]"
   ]
  },
  {
   "cell_type": "code",
   "execution_count": 2,
   "metadata": {},
   "outputs": [],
   "source": [
    "from Crypto.Util.number import *\n",
    "for i in range(len(C)):\n",
    "    C[i] = bytes_to_long(C[i])"
   ]
  },
  {
   "cell_type": "code",
   "execution_count": 3,
   "metadata": {},
   "outputs": [
    {
     "name": "stdout",
     "output_type": "stream",
     "text": [
      "2035\n"
     ]
    }
   ],
   "source": [
    "# very simple attack with crt described here https://www.johndcook.com/blog/2019/03/06/rsa-exponent-3/\n",
    "key = crt(C,N).nth_root(3)\n",
    "print(len(bin(key)))\n",
    "key = long_to_bytes(key)"
   ]
  },
  {
   "cell_type": "code",
   "execution_count": 4,
   "metadata": {},
   "outputs": [
    {
     "data": {
      "text/plain": [
       "b'\\x01\\xff\\xff\\xff\\xff\\xff\\xff\\xff\\xff\\xff\\xff\\xff\\xff\\xff\\xff\\xff\\xff\\xff\\xff\\xff\\xff\\xff\\xff\\xff\\xff\\xff\\xff\\xff\\xff\\xff\\xff\\xff\\xff\\xff\\xff\\xff\\xff\\xff\\xff\\xff\\xff\\xff\\xff\\xff\\xff\\xff\\xff\\xff\\xff\\xff\\xff\\xff\\xff\\xff\\xff\\xff\\xff\\xff\\xff\\xff\\xff\\xff\\xff\\xff\\xff\\xff\\xff\\xff\\xff\\xff\\xff\\xff\\xff\\xff\\xff\\xff\\xff\\xff\\xff\\xff\\xff\\xff\\xff\\xff\\xff\\xff\\xff\\xff\\xff\\xff\\xff\\xff\\xff\\xff\\xff\\xff\\xff\\xff\\xff\\xff\\xff\\xff\\xff\\xff\\xff\\xff\\xff\\xff\\xff\\xff\\xff\\xff\\xff\\xff\\xff\\xff\\xff\\xff\\xff\\xff\\xff\\xff\\xff\\xff\\xff\\xff\\xff\\xff\\xff\\xff\\xff\\xff\\xff\\xff\\xff\\xff\\xff\\xff\\xff\\xff\\xff\\xff\\xff\\xff\\xff\\xff\\xff\\xff\\xff\\xff\\xff\\xff\\xff\\xff\\xff\\xff\\xff\\xff\\xff\\xff\\xff\\xff\\xff\\xff\\xff\\xff\\xff\\xff\\xff\\xff\\xff\\xff\\xff\\xff\\xff\\xff\\xff\\xff\\xff\\xff\\xff\\xff\\xff\\xff\\xff\\xff\\xff\\xff\\xff\\xff\\xff\\xff\\xff\\xff\\xff\\xff\\xff\\xff\\xff\\xff\\xff\\xff\\xff\\xff\\xff\\xff\\xff\\xff\\xff\\xff\\xff\\xff\\xff\\xff\\xff\\xff\\xff\\xff\\xff\\xff\\xff\\xff\\x00\\x8b\\xc7\\x17\\xf3\\xa4 \\x12\\xd51\\x1a\\xa8\\xf8\\xff\\xb8\\xf76\\xc7\\xe9\\xe8\\x0f\\xcc\\xae\\xaf/a\\x8b\\xe5\\xe2wSO\\x99'"
      ]
     },
     "execution_count": 4,
     "metadata": {},
     "output_type": "execute_result"
    }
   ],
   "source": [
    "key"
   ]
  },
  {
   "cell_type": "code",
   "execution_count": 5,
   "metadata": {},
   "outputs": [],
   "source": [
    "key = b'\\x8b\\xc7\\x17\\xf3\\xa4 \\x12\\xd51\\x1a\\xa8\\xf8\\xff\\xb8\\xf76\\xc7\\xe9\\xe8\\x0f\\xcc\\xae\\xaf/a\\x8b\\xe5\\xe2wSO\\x99' \n",
    "# we check that the rest of the info is garbage, and this last part fits the key size\n",
    "iv = b'_xU+\\xa3\\xd2\\xf1V\\x83\\t\\x95?siC\\x05'\n",
    "# we find it with one of the python prints, the first one, in parameters\n",
    "ct = b'I\\x7f\\xd3\\x88\\xcatP\\xb7\\xa5\\xc0*\\xae%\\n;\\xe6\\x0b6{A2\\x81\\x9f\\x13\\x9c\\xf8\\xbf\\xc6\\xc5\\x89T+\\x80\\xaa,W\\xd0\\xc8\\xc0\\xd5\\xdaFK\\xe9A\\x92\\x85X\\xa9x\\xb2@\\xf2\\xf1\\xb2\\xf6\\xb0\\x97\\xf8\\xb5\\xa4\\xa4\\xfdQ*\\xa8\\xac\\xe5+\\x84Z,S,\\xfa\\xe8\\x07\\xcc\\x81\\x81\\x8a\\xffj\\x92\\r!\\x8f\\x19\\x9f\\xf0%\\xb9\\x8f\\xe7\\xbe7\\xa6\\x0b\"\\'\\xbd\\xce\\xde\\x92\\xab5J]\\xd4\\x9a\\xc1U\\xddI\\xf5\\x0ci\\xb9Z\\xf1}@\\xa7\\x86\\x7fh&\\xb7\\xdf\\xc1u3\\'\\xf4X\\xcb\\xf6A\\xca\\x08\\n\\xa6V\\x86\\x16\\x89\\x931\\x063^R\\xba<Kg\\xfc\\xa7%\"G\\x95\\xaa~\\x9d\\xa8\\xf0_;Y)\\x03\\xe0p\\xfa\\x99'\n",
    "# another of the prints finds it"
   ]
  },
  {
   "cell_type": "code",
   "execution_count": 6,
   "metadata": {},
   "outputs": [
    {
     "data": {
      "text/plain": [
       "b'\\nHello everyone,\\nWe are out of microchips. Me and my team need more supplies! Hurry up, everyone has to be microchipped! Deliver the package here:\\nHTB{37.220464, -115.835938}\\x02\\x02'"
      ]
     },
     "execution_count": 6,
     "metadata": {},
     "output_type": "execute_result"
    }
   ],
   "source": [
    "from Crypto.Cipher import AES\n",
    "cipher = AES.new(key, AES.MODE_CBC, iv=iv)\n",
    "cipher.decrypt(ct)\n"
   ]
  },
  {
   "cell_type": "code",
   "execution_count": null,
   "metadata": {},
   "outputs": [],
   "source": []
  },
  {
   "cell_type": "code",
   "execution_count": null,
   "metadata": {},
   "outputs": [],
   "source": []
  }
 ],
 "metadata": {
  "kernelspec": {
   "display_name": "SageMath 9.0",
   "language": "sage",
   "name": "sagemath"
  },
  "language_info": {
   "codemirror_mode": {
    "name": "ipython",
    "version": 3
   },
   "file_extension": ".py",
   "mimetype": "text/x-python",
   "name": "python",
   "nbconvert_exporter": "python",
   "pygments_lexer": "ipython3",
   "version": "3.8.3rc1"
  }
 },
 "nbformat": 4,
 "nbformat_minor": 4
}
