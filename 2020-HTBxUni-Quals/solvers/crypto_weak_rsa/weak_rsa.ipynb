{
 "cells": [
  {
   "cell_type": "code",
   "execution_count": 1,
   "metadata": {},
   "outputs": [],
   "source": [
    "from Crypto.PublicKey import RSA\n",
    "from Crypto.Util.number import *\n",
    "f = open(\"pubkey.pem\")\n",
    "key = RSA.importKey(f.read())\n",
    "c = open(\"flag.enc\", mode=\"rb\")\n",
    "c = bytes_to_long(c.read())\n",
    "\n",
    "def continued_fractions_expansion(numerator,denominator):#(e,N)\n",
    "\tresult=[]\n",
    " \n",
    "\tdivident = numerator % denominator\n",
    "\tquotient = numerator //denominator\n",
    "\tresult.append(quotient)\n",
    " \n",
    "\twhile divident != 0:\n",
    "\t\tnumerator = numerator - quotient * denominator\n",
    " \n",
    "\t\ttmp = denominator\n",
    "\t\tdenominator = numerator\n",
    "\t\tnumerator = tmp\n",
    " \n",
    "\t\tdivident = numerator % denominator\n",
    "\t\tquotient = numerator //denominator\n",
    "\t\tresult.append(quotient)\n",
    " \n",
    "\treturn result\n",
    " \n",
    "def convergents(expansion):\n",
    "\tconvergents=[(expansion[0], 1)]\n",
    "\tfor i in range(1, len(expansion)):\n",
    "\t\tnumerator = 1\n",
    "\t\tdenominator = expansion[i]\n",
    "\t\tfor j in range(i - 1, -1, -1):\n",
    "\t\t\tnumerator += expansion[j] * denominator\n",
    "\t\t\tif j==0:\n",
    "\t\t\t\tbreak\n",
    "\t\t\ttmp = denominator\n",
    "\t\t\tdenominator = numerator\n",
    "\t\t\tnumerator = tmp\n",
    "\t\tconvergents.append((numerator, denominator)) #(k,d)\n",
    "\treturn convergents\n",
    " \n",
    "def newtonSqrt(n):\n",
    "\tapprox = n // 2\n",
    "\tbetter = (approx + n //approx) // 2\n",
    "\twhile better != approx:\n",
    "\t    approx = better\n",
    "\t    better = (approx + n // approx) // 2\n",
    "\treturn approx\n",
    " \n",
    "def wiener_attack(cons, e, N):\n",
    "\tfor cs in cons:\n",
    "\t\tk,d = cs\n",
    "\t\tif k == 0:\n",
    "\t\t\tcontinue\n",
    "\t\tphi_N = (e * d - 1) // k\n",
    "\t\t#x**2 - ((N - phi_N) + 1) * x + N = 0\n",
    "\t\ta = 1\n",
    "\t\tb = -((N - phi_N) + 1)\n",
    "\t\tc = N\n",
    "\t\tdelta = b * b - 4 * a * c\n",
    "\t\tif delta <= 0:\n",
    "\t\t\tcontinue\n",
    "\t\tx1 = (newtonSqrt(delta) - b)//(2 * a)\n",
    "\t\tx2 = -(newtonSqrt(delta) + b)//(2 * a)\n",
    "\t\tif x1 * x2 == N:\n",
    "\t\t\treturn [x1, x2, k, d]\n"
   ]
  },
  {
   "cell_type": "code",
   "execution_count": 2,
   "metadata": {},
   "outputs": [],
   "source": [
    "n=key.n\n",
    "e=key.e\n",
    "expansion = continued_fractions_expansion(e, n)\n",
    "cons = convergents(expansion)\n",
    "p, q, k, d = wiener_attack(cons, e, n)\n",
    "m = pow(c, d, n)"
   ]
  },
  {
   "cell_type": "code",
   "execution_count": 3,
   "metadata": {},
   "outputs": [
    {
     "data": {
      "text/plain": [
       "b'HTB{b16_e_5m4ll_d_3qu4l5_w31n3r_4774ck}'"
      ]
     },
     "execution_count": 3,
     "metadata": {},
     "output_type": "execute_result"
    }
   ],
   "source": [
    "long_to_bytes(m)"
   ]
  },
  {
   "cell_type": "code",
   "execution_count": null,
   "metadata": {},
   "outputs": [],
   "source": []
  }
 ],
 "metadata": {
  "kernelspec": {
   "display_name": "SageMath 9.0",
   "language": "sage",
   "name": "sagemath"
  },
  "language_info": {
   "codemirror_mode": {
    "name": "ipython",
    "version": 3
   },
   "file_extension": ".py",
   "mimetype": "text/x-python",
   "name": "python",
   "nbconvert_exporter": "python",
   "pygments_lexer": "ipython3",
   "version": "3.8.3rc1"
  }
 },
 "nbformat": 4,
 "nbformat_minor": 4
}
